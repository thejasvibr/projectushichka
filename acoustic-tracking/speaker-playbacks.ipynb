{
 "cells": [
  {
   "cell_type": "markdown",
   "id": "handy-cancellation",
   "metadata": {},
   "source": [
    "This notebook will detail my attempts at getting video and acoustic tracking for the speaker playbacks. This is a simple recording to handle. \n",
    "\n",
    "* Speaker recording: SPKRPLAYBACK_multichirp_2018-07-29_09-42-59.WAV\n",
    "* Video recording : 2018-07-28/P03/K1,2,3/02000.TMC\n"
   ]
  },
  {
   "cell_type": "code",
   "execution_count": null,
   "id": "functioning-authentication",
   "metadata": {},
   "outputs": [],
   "source": []
  }
 ],
 "metadata": {
  "kernelspec": {
   "display_name": "Python [conda env:projushichka] *",
   "language": "python",
   "name": "conda-env-projushichka-py"
  },
  "language_info": {
   "codemirror_mode": {
    "name": "ipython",
    "version": 3
   },
   "file_extension": ".py",
   "mimetype": "text/x-python",
   "name": "python",
   "nbconvert_exporter": "python",
   "pygments_lexer": "ipython3",
   "version": "3.8.5"
  }
 },
 "nbformat": 4,
 "nbformat_minor": 5
}
