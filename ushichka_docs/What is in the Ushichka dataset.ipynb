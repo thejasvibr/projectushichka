{
 "cells": [
  {
   "cell_type": "markdown",
   "metadata": {},
   "source": [
    "The Ushichka dataset has multiple types of files spread across multiple hard-disks, and of different types. This notebook will try to compare, and check how many unique files are there.\n",
    "\n",
    "The broad reason Ushichka was split over multiple hard-disks was for 1) back-up and 2) due to space limitations on the first hard disk. The dataset has two 'fieldseason' phases: 1 & 2. Phase 1 is pre-Lund visit, while Phase 2 is all that happened post-Lund.\n",
    "\n",
    "The four disks are named:\n",
    "\n",
    "1. Ushichka dataset harddisk #1\n",
    "1. Ushichka dataset harddisk #2\n",
    "1. Ushichka dataset harddisk #3\n",
    "1. Ushichka dataset harddisk #4\n",
    "\n",
    "...and shortly referred to as #1-4\n",
    "\n",
    "Here I will be discussing the data collected only in the 'main' recording volume for recordings done on (See Beleyur&Goerlitz 2021 (in prep) or Beleyur PhD Thesis, Uni. Konstanz):\n",
    "\n",
    "* 2018-06-19\n",
    "* 2018-06-21\n",
    "* 2018-06-22\n",
    "* 2018-07-14\n",
    "* 2018-07-21\n",
    "* 2018-07-25\n",
    "* 2018-07-28\n",
    "* 2018-08-02\n",
    "* 2018-08-14\n",
    "* 2018-08-17\n",
    "* 2018-08-18\n",
    "* 2018-08-19\n",
    "\n",
    "Aside from all of this data - there is actually a *lot* of data collected using the audio-video array system of free-flying bats recorded in various field sites in and outside of caves. \n",
    "\n",
    "\n"
   ]
  },
  {
   "cell_type": "markdown",
   "metadata": {},
   "source": [
    "The typical organisation of the data in the drives followed this pattern showing the organisation of folders containing raw data. \n",
    "\n",
    "### Typical Audio and Video raw data organisation\n",
    "\n",
    "```\n",
    "MAIN DISK:\n",
    "    * fieldwork_2018_001\n",
    "        * actrackdata\n",
    "            * wav\n",
    "                # one folder per starting date and session number. \n",
    "                # the 'starting date' remains the same past midnight even though the actual date\n",
    "                # has changed.\n",
    "                * YYYY-MM-DD_sss\n",
    "                    * FILE1.WAV\n",
    "                    * FILE2.WAV\n",
    "                    * ..........\n",
    "            * weather\n",
    "        * video\n",
    "            * YYYY-MM-DD\n",
    "                # one folder per camera\n",
    "                * K1\n",
    "                    # first folder made on switching is always P0000000\n",
    "                    # all following folders are +1\n",
    "                    * P0000000\n",
    "                        # same folder numbering system . First recording triggered is always\n",
    "                        # stored as 00000000.TMC and +1 for every new file triggered.\n",
    "                        * 00000000.TMC\n",
    "                        * 00000001.TMC\n",
    "                        * .........\n",
    "                    * P0000001\n",
    "                    * ......\n",
    "                    \n",
    "                * K2\n",
    "                * K3\n",
    "        * notebook_scans\n",
    "            * YYYY-MM-DD\n",
    "                * notebook photos, scans, additional notes/observations\n",
    "```\n",
    "In addition to the *raw* data, there are also some folders in ```actrackdata/video/yyyy-mm-dd/``` which have the DLTdv wand calibrations, the .avi exported videos, and even a few bat trajectories. \n",
    "\n",
    "\n",
    "### LiDAR data\n",
    "\n",
    "In addition to the audio and video data, the LiDAR scans are stored in disk #2. The whole folder is 6.72GB\n",
    "\n",
    "```\n",
    "MAIN DISK:\n",
    "    * Orlova_Chuka_LiDAR\n",
    "        * Exports\n",
    "            * various formats of the LiDAR scan - .ply, .dxf and a compressed folder 'OrlovaChukaTotalPointCloud.rar'\n",
    "        # zipped folder containing a Word file explaining how the raw data was processed. \n",
    "        * Re _Orlova_Chuka_data.zip\n",
    "```\n",
    "Asparuh Kamburov also has the original data with him - and can be contacted for a copy if necessary. \n"
   ]
  },
  {
   "cell_type": "markdown",
   "metadata": {},
   "source": [
    "### Dates for ``` fieldwork_2018_001\\```\n",
    "\n",
    "```\\actrackdata\\wav```\n",
    "\n",
    "|Disk #|Disk #1   | Disk #2|    Disk #3   |   Disk #4    |\n",
    "|------|-----------|-----|--------|-----|\n",
    "|Start|2018-06-19 |2018-06-19 | non-Ushichka |2018-06-19 |\n",
    "|  End| 2018-07-25|2018-07-28 | non-Ushichka | 2018-07-28   | \n",
    "\n",
    "```\\video```\n",
    "\n",
    "|Disk #|  Disk #1  |  Disk #2   | Disk #3   |   Disk #4    |\n",
    "|------|-----------|------------|-----------|--------------|\n",
    "|Start |2018-06-19 | 2018-04-09 |2018-04-09 |non-Ushichka     |\n",
    "|  End | 2018-07-25| 2018-07-25 |2018-05-01 | non-Ushichka    | \n",
    "\n",
    "\n",
    "\n",
    "### Dates for ``` fieldwork_2018_002\\```\n",
    "\n",
    "```\\actrackdata\\wav```\n",
    "\n",
    "|Disk #|  Disk #1  |  Disk #2   | Disk #3    |   Disk #4    |\n",
    "|------|-----------|------------|------------|--------------|\n",
    "|Start | No data   | 2018-07-28 | 2018-07-28 |  2018-07-28  |\n",
    "|  End | No data   | 2018-08-17 | 2018-08-19 |  2018-08-19  | \n",
    "\n",
    "```\\video```\n",
    "\n",
    "|Disk #|   Disk #1 |  Disk #2  |    Disk #3   |   Disk #4    |\n",
    "|------|-----------|-----------|--------------|--------------|\n",
    "| Start|  No data  |2018-07-28 |  2018-07-28  |  2018-07-28  |\n",
    "|  End |  No data  |2018-08-19 |  2018-08-19  |  2018-08-19  | \n"
   ]
  },
  {
   "cell_type": "code",
   "execution_count": 39,
   "metadata": {},
   "outputs": [],
   "source": [
    "import os\n",
    "import glob\n",
    "import sys \n",
    "\n",
    "import numpy as np"
   ]
  },
  {
   "cell_type": "code",
   "execution_count": null,
   "metadata": {},
   "outputs": [],
   "source": [
    "drives = ['D:/','E:/','F/:','G:/']"
   ]
  },
  {
   "cell_type": "code",
   "execution_count": 13,
   "metadata": {},
   "outputs": [
    {
     "name": "stdout",
     "output_type": "stream",
     "text": [
      "[5276, 5437]\n"
     ]
    }
   ],
   "source": [
    "# fieldseason 01 all wav files: \n",
    "fieldseason1_path = 'fieldwork_2018_001/actrackdata/wav/*/*.wav'\n",
    "all_wav_files = [glob.glob(drive+fieldseason1_path) for drive in drives[:2]]\n",
    "all_wav_files\n",
    "print([len(each) for i,each in enumerate(all_wav_files)])"
   ]
  },
  {
   "cell_type": "code",
   "execution_count": 25,
   "metadata": {},
   "outputs": [
    {
     "name": "stdout",
     "output_type": "stream",
     "text": [
      "['E:/fieldwork_2018_001/actrackdata/wav\\\\2018-06-14_002\\\\MULTIWAV_2018-06-15_04-51-02_1529027462.WAV', 'E:/fieldwork_2018_001/actrackdata/wav\\\\2018-06-14_001\\\\MULTIWAV_2018-06-14_22-06-38_1529003198.WAV', 'E:/fieldwork_2018_001/actrackdata/wav\\\\2018-05-30_001\\\\MULTIWAV_2018-05-30_03-19-09_1527643149.WAV', 'E:/fieldwork_2018_001/actrackdata/wav\\\\2018-06-14_002\\\\MULTIWAV_2018-06-15_04-23-04_1529025784.WAV', 'E:/fieldwork_2018_001/actrackdata/wav\\\\2018-07-14_002\\\\MULTIWAV_2018-07-15_05-13-41_1531620821.WAV', 'E:/fieldwork_2018_001/actrackdata/wav\\\\2018-05-20_003\\\\Mic02_2018-05-20_22-34-35_1526848475.WAV', 'E:/fieldwork_2018_001/actrackdata/wav\\\\2018-05-31_001\\\\MULTIWAV_2018-05-31_22-13-04_1527793984.WAV', 'E:/fieldwork_2018_001/actrackdata/wav\\\\2018-07-28_001\\\\MULTIWAV_2018-07-29_00-22-20_1532812940.WAV', 'E:/fieldwork_2018_001/actrackdata/wav\\\\2018-07-25_001\\\\MULTIWAV_2018-07-25_23-37-29_1532551049.WAV', 'E:/fieldwork_2018_001/actrackdata/wav\\\\2018-05-30_001\\\\MULTIWAV_2018-05-30_03-31-41_1527643901.WAV', 'E:/fieldwork_2018_001/actrackdata/wav\\\\2018-05-20_002\\\\MULTIWAV_2018-05-20_21-20-46_1526844046.WAV', 'E:/fieldwork_2018_001/actrackdata/wav\\\\2018-06-19_001\\\\MULTIWAV_2018-06-19_21-41-51_1529433711.WAV', 'E:/fieldwork_2018_001/actrackdata/wav\\\\2018-05-20_002\\\\MULTIWAV_2018-05-20_21-12-29_1526843549.WAV', 'E:/fieldwork_2018_001/actrackdata/wav\\\\2018-06-14_002\\\\MULTIWAV_2018-06-15_05-01-21_1529028081.WAV', 'E:/fieldwork_2018_001/actrackdata/wav\\\\2018-05-31_002\\\\MULTIWAV_2018-06-01_00-18-00_1527801480.WAV', 'E:/fieldwork_2018_001/actrackdata/wav\\\\2018-05-31_001\\\\MULTIWAV_2018-05-31_21-48-48_1527792528.WAV', 'E:/fieldwork_2018_001/actrackdata/wav\\\\2018-05-30_001\\\\MULTIWAV_2018-05-30_03-43-25_1527644605.WAV', 'E:/fieldwork_2018_001/actrackdata/wav\\\\2018-04-26_002\\\\Mic00_2018-04-26_23-38-57_1524778737.WAV', 'E:/fieldwork_2018_001/actrackdata/wav\\\\2018-05-31_001\\\\MULTIWAV_2018-05-31_22-35-32_1527795332.WAV', 'E:/fieldwork_2018_001/actrackdata/wav\\\\2018-05-31_003\\\\MULTIWAV_2018-06-01_04-25-41_1527816341.WAV']\n"
     ]
    }
   ],
   "source": [
    "# check the difference in the files\n",
    "wav_fieldwork01_diff = list(set(all_wav_files[1]).difference(set(all_wav_files[0])))\n",
    "print(list(wav_fieldwork01_diff)[:20])"
   ]
  },
  {
   "cell_type": "code",
   "execution_count": 28,
   "metadata": {},
   "outputs": [
    {
     "data": {
      "text/plain": [
       "('E:/fieldwork_2018_001/actrackdata/wav', '2018-06-14_002')"
      ]
     },
     "execution_count": 28,
     "metadata": {},
     "output_type": "execute_result"
    }
   ],
   "source": []
  },
  {
   "cell_type": "code",
   "execution_count": 29,
   "metadata": {},
   "outputs": [],
   "source": [
    "# which files are these -- get the session dates on them \n",
    "session_dates_uniquefiles = []\n",
    "for each in wav_fieldwork01_diff:\n",
    "    folder,file = os.path.split(each)\n",
    "    _, session_folder = os.path.split(folder)\n",
    "    session_dates_uniquefiles.append(session_folder)\n",
    "    "
   ]
  },
  {
   "cell_type": "code",
   "execution_count": 43,
   "metadata": {},
   "outputs": [
    {
     "data": {
      "text/plain": [
       "['2018-04-09_001',\n",
       " '2018-04-14_001',\n",
       " '2018-04-17_001',\n",
       " '2018-04-19_001',\n",
       " '2018-04-19_002',\n",
       " '2018-04-21_001',\n",
       " '2018-04-22_001',\n",
       " '2018-04-22_002',\n",
       " '2018-04-25_001',\n",
       " '2018-04-26_001',\n",
       " '2018-04-26_002',\n",
       " '2018-05-01_001',\n",
       " '2018-05-01_002',\n",
       " '2018-05-20_001',\n",
       " '2018-05-20_002',\n",
       " '2018-05-20_003',\n",
       " '2018-05-24_001',\n",
       " '2018-05-24_002',\n",
       " '2018-05-24_003',\n",
       " '2018-05-24_004',\n",
       " '2018-05-28_001',\n",
       " '2018-05-30_001',\n",
       " '2018-05-30_003',\n",
       " '2018-05-31_001',\n",
       " '2018-05-31_002',\n",
       " '2018-05-31_003',\n",
       " '2018-05-31_004',\n",
       " '2018-06-07_001',\n",
       " '2018-06-07_002',\n",
       " '2018-06-07_003',\n",
       " '2018-06-12_001',\n",
       " '2018-06-12_002',\n",
       " '2018-06-14_001',\n",
       " '2018-06-14_002',\n",
       " '2018-06-19_001',\n",
       " '2018-06-19_002',\n",
       " '2018-06-21_001',\n",
       " '2018-06-21_002',\n",
       " '2018-06-22_001',\n",
       " '2018-06-22_002',\n",
       " '2018-06-22_003',\n",
       " '2018-07-14_001',\n",
       " '2018-07-14_002',\n",
       " '2018-07-14_003',\n",
       " '2018-07-21_001',\n",
       " '2018-07-21_002',\n",
       " '2018-07-21_003',\n",
       " '2018-07-21_004',\n",
       " '2018-07-25_001',\n",
       " '2018-07-25_002',\n",
       " '2018-07-25_003',\n",
       " '2018-07-28_001',\n",
       " '2018-07-28_002',\n",
       " '2018-07-28_003']"
      ]
     },
     "execution_count": 43,
     "metadata": {},
     "output_type": "execute_result"
    }
   ],
   "source": [
    "unique_sessions_f01 = np.unique(sorted(session_dates_uniquefiles)).tolist()\n",
    "unique_sessions_f01"
   ]
  },
  {
   "cell_type": "markdown",
   "metadata": {},
   "source": [
    "We see that most of "
   ]
  },
  {
   "cell_type": "markdown",
   "metadata": {},
   "source": [
    "### There are files in #2 that need to be added on top of the wav files already in #1. "
   ]
  },
  {
   "cell_type": "code",
   "execution_count": 34,
   "metadata": {},
   "outputs": [
    {
     "name": "stdout",
     "output_type": "stream",
     "text": [
      "0\n"
     ]
    }
   ],
   "source": [
    "drives = ['D:/','E:/','F/:','G:/']\n",
    "fieldseason1_path = 'fieldwork_2018_001/video/*/K*/*.TMC'\n",
    "all_wav_files = glob.glob(drives[3]+fieldseason1_path)\n",
    "all_wav_files\n",
    "print(len(all_wav_files))"
   ]
  },
  {
   "cell_type": "code",
   "execution_count": null,
   "metadata": {},
   "outputs": [],
   "source": []
  }
 ],
 "metadata": {
  "kernelspec": {
   "display_name": "projushichka",
   "language": "python",
   "name": "projushichka"
  },
  "language_info": {
   "codemirror_mode": {
    "name": "ipython",
    "version": 3
   },
   "file_extension": ".py",
   "mimetype": "text/x-python",
   "name": "python",
   "nbconvert_exporter": "python",
   "pygments_lexer": "ipython3",
   "version": "3.8.5"
  }
 },
 "nbformat": 4,
 "nbformat_minor": 4
}
