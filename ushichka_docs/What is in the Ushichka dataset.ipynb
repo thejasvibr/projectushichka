{
 "cells": [
  {
   "cell_type": "markdown",
   "metadata": {},
   "source": [
    "The Ushichka dataset has multiple types of files spread across multiple hard-disks, and of different types. This notebook will try to compare, and check how many unique files are there.\n",
    "\n",
    "The broad reason Ushichka was split over multiple hard-disks was for 1) back-up and 2) due to space limitations on the first hard disk. The dataset has two 'fieldseason' phases: 1 & 2. Phase 1 is pre-Lund visit, while Phase 2 is all that happened post-Lund.\n",
    "\n",
    "The four disks are named:\n",
    "\n",
    "1. Ushichka dataset harddisk #1\n",
    "1. Ushichka dataset harddisk #2\n",
    "1. Ushichka dataset harddisk #3\n",
    "1. Ushichka dataset harddisk #4\n",
    "\n",
    "...and shortly referred to as #1-4\n"
   ]
  },
  {
   "cell_type": "markdown",
   "metadata": {},
   "source": [
    "The typical organisation of the data in the drives followed this pattern showing the organisation of folders containing raw data. \n",
    "\n",
    "### Typical Audio and Video raw data organisation\n",
    "\n",
    "```\n",
    "MAIN DISK:\n",
    "    * fieldwork_2018_001\n",
    "        * actrackdata\n",
    "            * wav\n",
    "                # one folder per starting date and session number. \n",
    "                # the 'starting date' remains the same past midnight even though the actual date\n",
    "                # has changed.\n",
    "                * YYYY-MM-DD_sss\n",
    "                    * FILE1.WAV\n",
    "                    * FILE2.WAV\n",
    "                    * ..........\n",
    "            * weather\n",
    "        * video\n",
    "            * YYYY-MM-DD\n",
    "                # one folder per camera\n",
    "                * K1\n",
    "                    # first folder made on switching is always P0000000\n",
    "                    # all following folders are +1\n",
    "                    * P0000000\n",
    "                        # same folder numbering system . First recording triggered is always\n",
    "                        # stored as 00000000.TMC and +1 for every new file triggered.\n",
    "                        * 00000000.TMC\n",
    "                        * 00000001.TMC\n",
    "                        * .........\n",
    "                    * P0000001\n",
    "                    * ......\n",
    "                    \n",
    "                * K2\n",
    "                * K3\n",
    "        * notebook_scans\n",
    "            * YYYY-MM-DD\n",
    "                * notebook photos, scans, additional notes/observations\n",
    "```\n",
    "In addition to the *raw* data, there are also some folders in ```actrackdata/video/yyyy-mm-dd/``` which have the DLTdv wand calibrations, the .avi exported videos, and even a few bat trajectories. \n",
    "\n",
    "\n",
    "### LiDAR data\n",
    "\n",
    "In addition to the audio and video data, the LiDAR scans are stored in disk #2. The whole folder is 6.72GB\n",
    "\n",
    "```\n",
    "MAIN DISK:\n",
    "    * Orlova_Chuka_LiDAR\n",
    "        * Exports\n",
    "            * various formats of the LiDAR scan - .ply, .dxf and a compressed folder 'OrlovaChukaTotalPointCloud.rar'\n",
    "        # zipped folder containing a Word file explaining how the raw data was processed. \n",
    "        * Re _Orlova_Chuka_data.zip\n",
    "```\n",
    "Asparuh Kamburov also has the original data with him - and can be contacted for a copy if necessary. \n"
   ]
  },
  {
   "cell_type": "markdown",
   "metadata": {},
   "source": [
    "### Dates for ``` fieldwork_2018_001\\```\n",
    "\n",
    "```\\actrackdata\\wav```\n",
    "\n",
    "|Disk #|Disk #1   | Disk #2|    Disk #3   |   Disk #4    |\n",
    "|------|-----------|-----|--------|-----|\n",
    "|Start|2018-04-09 |2018-04-09 |2018-04-09 |2018-04-09 |\n",
    "|  End| 2018-07-25|2018-07-28 |2018-05-20 | 2018-07-28   | \n",
    "\n",
    "```\\video```\n",
    "\n",
    "|Disk #|Disk #1   | Disk #2|    Disk #3   |   Disk #4    |\n",
    "|------|-----------|-----|--------|-----|\n",
    "|Start|2018-04-26 |2018-04-09 |2018-04-09 |No backup|\n",
    "|  End| 2018-07-25|2018-07-25 |2018-05-01 | No backup| \n",
    "\n",
    "\n",
    "\n",
    "### Dates for ``` fieldwork_2018_002\\```\n",
    "\n",
    "```\\actrackdata\\wav```\n",
    "\n",
    "|Disk #|Disk #1   | Disk #2|    Disk #3   |   Disk #4    |\n",
    "|------|-----------|-----|--------|-----|\n",
    "|Start|No data  |2018-07-28  |2018-07-28 |2018-07-28  |\n",
    "|  End| No data |2018-08-17 |2018-08-19 | 2018-08-19| \n",
    "\n",
    "```\\video```\n",
    "\n",
    "|Disk #|Disk #1   | Disk #2|    Disk #3   |   Disk #4    |\n",
    "|------|-----------|-----|--------|-----|\n",
    "|Start|No data |2018-07-28 |2018-07-28 |2018-07-28|\n",
    "|  End| No data|2018-08-19 |2018-08-19 | 2018-08-19| \n",
    "\n",
    "\n",
    "*Attention* : even though the start and end dates of the folders appear to be the same in some cases, the data may not be exactly the same - and this is important to pay attention to! \n",
    "\n",
    "\n",
    "\n",
    "\n"
   ]
  },
  {
   "cell_type": "code",
   "execution_count": 36,
   "metadata": {},
   "outputs": [],
   "source": [
    "import os\n",
    "import glob\n",
    "import sys "
   ]
  },
  {
   "cell_type": "code",
   "execution_count": 31,
   "metadata": {},
   "outputs": [
    {
     "name": "stdout",
     "output_type": "stream",
     "text": [
      "1109\n"
     ]
    }
   ],
   "source": [
    "drives = ['D:/','E:/','F/:','G:/']\n",
    "fieldseason1_path = 'fieldwork_2018_002/actrackdata/wav/*/*.wav'\n",
    "all_wav_files = glob.glob(drives[3]+fieldseason1_path)\n",
    "all_wav_files\n",
    "print(len(all_wav_files))"
   ]
  },
  {
   "cell_type": "code",
   "execution_count": 34,
   "metadata": {},
   "outputs": [
    {
     "name": "stdout",
     "output_type": "stream",
     "text": [
      "0\n"
     ]
    }
   ],
   "source": [
    "drives = ['D:/','E:/','F/:','G:/']\n",
    "fieldseason1_path = 'fieldwork_2018_001/video/*/K*/*.TMC'\n",
    "all_wav_files = glob.glob(drives[3]+fieldseason1_path)\n",
    "all_wav_files\n",
    "print(len(all_wav_files))"
   ]
  },
  {
   "cell_type": "code",
   "execution_count": null,
   "metadata": {},
   "outputs": [],
   "source": []
  }
 ],
 "metadata": {
  "kernelspec": {
   "display_name": "projushichka",
   "language": "python",
   "name": "projushichka"
  },
  "language_info": {
   "codemirror_mode": {
    "name": "ipython",
    "version": 3
   },
   "file_extension": ".py",
   "mimetype": "text/x-python",
   "name": "python",
   "nbconvert_exporter": "python",
   "pygments_lexer": "ipython3",
   "version": "3.8.5"
  }
 },
 "nbformat": 4,
 "nbformat_minor": 4
}
