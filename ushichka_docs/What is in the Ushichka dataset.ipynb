{
 "cells": [
  {
   "cell_type": "markdown",
   "metadata": {},
   "source": [
    "The Ushichka dataset has multiple types of files spread across multiple hard-disks, and of different types. This notebook will try to compare, and check how many unique files are there.\n",
    "\n",
    "The broad reason Ushichka was split over multiple hard-disks was for 1) back-up and 2) due to space limitations on the first hard disk. The dataset has two 'fieldseason' phases: 1 & 2. Phase 1 is pre-Lund visit, while Phase 2 is all that happened post-Lund.\n",
    "\n",
    "The four disks are named:\n",
    "\n",
    "1. Ushichka dataset harddisk #1\n",
    "1. Ushichka dataset harddisk #2\n",
    "1. Ushichka dataset harddisk #3\n",
    "1. Ushichka dataset harddisk #4\n",
    "\n",
    "...and shortly referred to as #1-4\n",
    "\n",
    "Here I will be discussing the data collected only in the 'main' recording volume for recordings done on (See Beleyur&Goerlitz 2021 (in prep) or Beleyur PhD Thesis, Uni. Konstanz):\n",
    "\n",
    "* 2018-06-19\n",
    "* 2018-06-21\n",
    "* 2018-06-22\n",
    "* 2018-07-14\n",
    "* 2018-07-21\n",
    "* 2018-07-25\n",
    "* 2018-07-28\n",
    "* 2018-08-02\n",
    "* 2018-08-14\n",
    "* 2018-08-17\n",
    "* 2018-08-18\n",
    "* 2018-08-19\n",
    "\n",
    "Aside from all of this data - there is actually a *lot* of data collected using the audio-video array system of free-flying bats recorded in various field sites in and outside of caves. \n",
    "\n",
    "\n"
   ]
  },
  {
   "cell_type": "markdown",
   "metadata": {},
   "source": [
    "The typical organisation of the data in the drives followed this pattern showing the organisation of folders containing raw data. \n",
    "\n",
    "### Typical Audio and Video raw data organisation\n",
    "\n",
    "```\n",
    "MAIN DISK:\n",
    "    * fieldwork_2018_001\n",
    "        * actrackdata\n",
    "            * wav\n",
    "                # one folder per starting date and session number. \n",
    "                # the 'starting date' remains the same past midnight even though the actual date\n",
    "                # has changed.\n",
    "                * YYYY-MM-DD_sss\n",
    "                    * FILE1.WAV\n",
    "                    * FILE2.WAV\n",
    "                    * ..........\n",
    "            * weather\n",
    "        * video\n",
    "            * YYYY-MM-DD\n",
    "                # one folder per camera\n",
    "                * K1\n",
    "                    # first folder made on switching is always P0000000\n",
    "                    # all following folders are +1\n",
    "                    * P0000000\n",
    "                        # same folder numbering system . First recording triggered is always\n",
    "                        # stored as 00000000.TMC and +1 for every new file triggered.\n",
    "                        * 00000000.TMC\n",
    "                        * 00000001.TMC\n",
    "                        * .........\n",
    "                    * P0000001\n",
    "                    * ......\n",
    "                    \n",
    "                * K2\n",
    "                * K3\n",
    "        * notebook_scans\n",
    "            * YYYY-MM-DD\n",
    "                * notebook photos, scans, additional notes/observations\n",
    "```\n",
    "In addition to the *raw* data, there are also some folders in ```actrackdata/video/yyyy-mm-dd/``` which have the DLTdv wand calibrations, the .avi exported videos, and even a few bat trajectories. \n",
    "\n",
    "\n",
    "### LiDAR data\n",
    "\n",
    "In addition to the audio and video data, the LiDAR scans are stored in disk #2. The whole folder is 6.72GB\n",
    "\n",
    "```\n",
    "MAIN DISK:\n",
    "    * Orlova_Chuka_LiDAR\n",
    "        * Exports\n",
    "            * various formats of the LiDAR scan - .ply, .dxf and a compressed folder 'OrlovaChukaTotalPointCloud.rar'\n",
    "        # zipped folder containing a Word file explaining how the raw data was processed. \n",
    "        * Re _Orlova_Chuka_data.zip\n",
    "```\n",
    "Asparuh Kamburov also has the original data with him - and can be contacted for a copy if necessary. \n"
   ]
  },
  {
   "cell_type": "markdown",
   "metadata": {},
   "source": [
    "### Dates for ``` fieldwork_2018_001\\```\n",
    "\n",
    "```\\actrackdata\\wav```\n",
    "\n",
    "|Disk #|Disk #1   | Disk #2|    Disk #3   |   Disk #4    |\n",
    "|------|-----------|-----|--------|-----|\n",
    "|Start|2018-06-19 |2018-06-19 | non-Ushichka |2018-06-19 |\n",
    "|  End| 2018-07-25|2018-07-28 | non-Ushichka | 2018-07-28   | \n",
    "\n",
    "```\\video```\n",
    "\n",
    "|Disk #|  Disk #1  |  Disk #2   | Disk #3   |   Disk #4    |\n",
    "|------|-----------|------------|-----------|--------------|\n",
    "|Start |2018-06-19 | 2018-04-09 |2018-04-09 |non-Ushichka     |\n",
    "|  End | 2018-07-25| 2018-07-25 |2018-05-01 | non-Ushichka    | \n",
    "\n",
    "\n",
    "\n",
    "### Dates for ``` fieldwork_2018_002\\```\n",
    "\n",
    "```\\actrackdata\\wav```\n",
    "\n",
    "|Disk #|  Disk #1  |  Disk #2   | Disk #3    |   Disk #4    |\n",
    "|------|-----------|------------|------------|--------------|\n",
    "|Start | No data   | 2018-07-28 | 2018-07-28 |  2018-07-28  |\n",
    "|  End | No data   | 2018-08-17 | 2018-08-19 |  2018-08-19  | \n",
    "\n",
    "```\\video```\n",
    "\n",
    "|Disk #|   Disk #1 |  Disk #2  |    Disk #3   |   Disk #4    |\n",
    "|------|-----------|-----------|--------------|--------------|\n",
    "| Start|  No data  |2018-07-28 |  2018-07-28  |  2018-07-28  |\n",
    "|  End |  No data  |2018-08-19 |  2018-08-19  |  2018-08-19  | \n"
   ]
  },
  {
   "cell_type": "code",
   "execution_count": 1,
   "metadata": {},
   "outputs": [],
   "source": [
    "import os\n",
    "import glob\n",
    "import sys \n",
    "\n",
    "import numpy as np"
   ]
  },
  {
   "cell_type": "code",
   "execution_count": 2,
   "metadata": {},
   "outputs": [],
   "source": [
    "drives = ['D:/','E:/','F:/','G:/']"
   ]
  },
  {
   "cell_type": "code",
   "execution_count": 54,
   "metadata": {},
   "outputs": [],
   "source": [
    "# split all paths into their session folder and the filename\n",
    "# check the difference in the files\n",
    "def only_sessionfolder_filename(full_path):\n",
    "    restpath, filename = os.path.split(full_path)\n",
    "    restpathm1, session = os.path.split(restpath)\n",
    "    return os.path.join(session,filename)\n",
    "\n",
    "def only_camera_sessionfolder_filename(full_path):\n",
    "    restpath, filename = os.path.split(full_path)\n",
    "    restpathm1, folder_num = os.path.split(restpath)\n",
    "    restpathm2 , kamera = os.path.split(restpathm1)\n",
    "    restpathm3 , session_folder = os.path.split(restpathm2)\n",
    "    return os.path.join(session_folder,kamera,folder_num,filename)"
   ]
  },
  {
   "cell_type": "markdown",
   "metadata": {},
   "source": [
    "## What is where ? ```fieldwork_001``` audio and video data "
   ]
  },
  {
   "cell_type": "code",
   "execution_count": 4,
   "metadata": {},
   "outputs": [
    {
     "name": "stdout",
     "output_type": "stream",
     "text": [
      "[5276, 5437]\n"
     ]
    }
   ],
   "source": [
    "# fieldseason 01 all wav files: \n",
    "fieldseason1_path = 'fieldwork_2018_001/actrackdata/wav/*/*.wav'\n",
    "all_wav_files = [glob.glob(drive+fieldseason1_path) for drive in drives[:2]]\n",
    "all_wav_files\n",
    "print([len(each) for i,each in enumerate(all_wav_files)])"
   ]
  },
  {
   "cell_type": "code",
   "execution_count": 5,
   "metadata": {},
   "outputs": [],
   "source": [
    "# session anf file paths for #1 and #2\n",
    "session_and_files = [ list(map(only_sessionfolder_filename, each))  for each in all_wav_files]"
   ]
  },
  {
   "cell_type": "code",
   "execution_count": 6,
   "metadata": {},
   "outputs": [],
   "source": [
    "# are all wav files in #2 fieldwork_001 there in #1 \n",
    "file_diffs_season1 = set(session_and_files[1]).difference(set(session_and_files[0]))"
   ]
  },
  {
   "cell_type": "code",
   "execution_count": 7,
   "metadata": {},
   "outputs": [
    {
     "name": "stdout",
     "output_type": "stream",
     "text": [
      "Number of unique files in Drive#2 161\n"
     ]
    }
   ],
   "source": [
    "print('Number of unique files in Drive#2',len(file_diffs_season1))"
   ]
  },
  {
   "cell_type": "markdown",
   "metadata": {},
   "source": [
    "### ```fieldwork_001/actrackdata/wav``` summary:\n",
    "Drive #2 has all fieldwork_001 WAV files in #1 and some more - especially the later sessions  post 2018-07-25. I also checked that # 4 has the same total file size as #1.  So essentially #1 and #4 have the same data for fieldwork_001/actrackdata/wav\n"
   ]
  },
  {
   "cell_type": "markdown",
   "metadata": {},
   "source": [
    "## ```fieldwork_001/video``` file status"
   ]
  },
  {
   "cell_type": "code",
   "execution_count": 84,
   "metadata": {},
   "outputs": [
    {
     "name": "stdout",
     "output_type": "stream",
     "text": [
      "[11317, 11317]\n"
     ]
    }
   ],
   "source": [
    "drives = ['D:/fieldwork_2018_001/','E:/fieldwork_2018_001/']\n",
    "fieldseason1_path = 'video/**/**/**/*.TMC'\n",
    "all_tmc_files = [ glob.glob(each+fieldseason1_path) for each in drives]\n",
    "all_tmc_files\n",
    "print([len(each) for each in all_tmc_files])"
   ]
  },
  {
   "cell_type": "code",
   "execution_count": 99,
   "metadata": {},
   "outputs": [],
   "source": [
    "f01_sessionfile =  [ list(map(only_camera_sessionfolder_filename, each)) for each in all_tmc_files]\n",
    "f01_sessionfiles_sets = [set(each) for each in f01_sessionfile]"
   ]
  },
  {
   "cell_type": "code",
   "execution_count": null,
   "metadata": {},
   "outputs": [],
   "source": []
  },
  {
   "cell_type": "markdown",
   "metadata": {},
   "source": [
    "### ```fieldwork_001/actrackdata/video``` summary:\n",
    "Drives #1 and #2 have **the same** video data. I also checked the total file space taken up by either, and they are also the same. \n"
   ]
  },
  {
   "cell_type": "markdown",
   "metadata": {},
   "source": [
    "## What is where ? ```fieldwork_002``` audio and video data "
   ]
  },
  {
   "cell_type": "markdown",
   "metadata": {},
   "source": [
    "### ```fieldwork_002\\actrackdata\\wav``` "
   ]
  },
  {
   "cell_type": "code",
   "execution_count": 12,
   "metadata": {},
   "outputs": [
    {
     "name": "stdout",
     "output_type": "stream",
     "text": [
      "[528, 1109, 1109]\n"
     ]
    }
   ],
   "source": [
    "drives = ['E:/','F:/','G:/']\n",
    "\n",
    "# fieldseason 02 all wav files: \n",
    "fieldseason2_path = ['fieldwork_2018_002/actrackdata/wav/*/*.wav','fieldword_2018_002/actrackdata/wav/*/*.wav',\n",
    "                     'fieldwork_2018_002/actrackdata/wav/*/*.wav']\n",
    "# For drives 2-4\n",
    "all_wav_files2 = [glob.glob(drive+folderp) for drive, folderp in zip(drives,fieldseason2_path)]\n",
    "all_wav_files2\n",
    "print([len(each) for i,each in enumerate(all_wav_files2)])"
   ]
  },
  {
   "cell_type": "markdown",
   "metadata": {},
   "source": [
    "Already without looking into much detail we can see:\n",
    "* drives #3 and #4 have the same number of wav files\n",
    "* #2 has about half as many. \n",
    "\n",
    "Even though the number of files are the same, let's check that the files are all the same between #3 and #4"
   ]
  },
  {
   "cell_type": "code",
   "execution_count": 23,
   "metadata": {},
   "outputs": [],
   "source": [
    "# select only the session folder+files in them \n",
    "f02_sessionfile2 =  [ list(map(only_sessionfolder_filename, each)) for each in all_wav_files2]\n",
    "f02_sessionfiles_sets = [set(each) for each in f02_sessionfile2]"
   ]
  },
  {
   "cell_type": "code",
   "execution_count": 37,
   "metadata": {},
   "outputs": [
    {
     "name": "stdout",
     "output_type": "stream",
     "text": [
      "528\n"
     ]
    }
   ],
   "source": [
    "# common files between the three drives\n",
    "all_common = f02_sessionfiles_sets[0].intersection(f02_sessionfiles_sets[1]).intersection(f02_sessionfiles_sets[2])\n",
    "print(len(all_common))"
   ]
  },
  {
   "cell_type": "code",
   "execution_count": 41,
   "metadata": {},
   "outputs": [
    {
     "data": {
      "text/plain": [
       "True"
      ]
     },
     "execution_count": 41,
     "metadata": {},
     "output_type": "execute_result"
    }
   ],
   "source": [
    "# are files in #2 a subset of the files in #3 and #4 ?\n",
    "all_common == f02_sessionfiles_sets[0]"
   ]
  },
  {
   "cell_type": "markdown",
   "metadata": {},
   "source": [
    "So the files in #2 seem to be there in drives #3 and #4 too. "
   ]
  },
  {
   "cell_type": "markdown",
   "metadata": {},
   "source": [
    "Are the files in #3 and #4 the same though? "
   ]
  },
  {
   "cell_type": "code",
   "execution_count": 40,
   "metadata": {},
   "outputs": [
    {
     "name": "stdout",
     "output_type": "stream",
     "text": [
      "True\n"
     ]
    }
   ],
   "source": [
    "drives34_same = f02_sessionfiles_sets[1] == f02_sessionfiles_sets[2]\n",
    "print(drives34_same)"
   ]
  },
  {
   "cell_type": "markdown",
   "metadata": {},
   "source": [
    "The files in #3 and #4 are indeed the same - which means there's a complete redundancy in the "
   ]
  },
  {
   "cell_type": "markdown",
   "metadata": {},
   "source": [
    "### Summary ```fieldwork_002/actrackdata/wav``` :\n",
    "* 1109 wav files in #3 and #4 are the same \n",
    "* 528 wav files in #2 are also in #3 and #4"
   ]
  },
  {
   "cell_type": "markdown",
   "metadata": {},
   "source": [
    "## ```fieldwork_002\\video``` "
   ]
  },
  {
   "cell_type": "code",
   "execution_count": 83,
   "metadata": {},
   "outputs": [
    {
     "name": "stdout",
     "output_type": "stream",
     "text": [
      "[1873, 4881, 4881]\n"
     ]
    }
   ],
   "source": [
    "\n",
    "# fieldseason 02 all wav files: \n",
    "fieldseason2_path = ['fieldwork_2018_002/','fieldword_2018_002/',\n",
    "                     'fieldwork_2018_002/']\n",
    "\n",
    "sub2_path = 'video/**/**/**/*.TMC'\n",
    "all_tmc_files2 = []\n",
    "for each,drivep in zip(drives, fieldseason2_path):\n",
    "    all_tmc_files2.append(glob.glob(each+drivep+sub2_path))\n",
    "\n",
    "all_tmc_files2\n",
    "print([len(each) for each in all_tmc_files2])"
   ]
  },
  {
   "cell_type": "code",
   "execution_count": 82,
   "metadata": {},
   "outputs": [
    {
     "data": {
      "text/plain": [
       "1873"
      ]
     },
     "execution_count": 82,
     "metadata": {},
     "output_type": "execute_result"
    }
   ],
   "source": [
    "len(set(all_tmc_files2[0]))"
   ]
  },
  {
   "cell_type": "code",
   "execution_count": 74,
   "metadata": {},
   "outputs": [
    {
     "data": {
      "text/plain": [
       "['E:/', 'F:/', 'G:/']"
      ]
     },
     "execution_count": 74,
     "metadata": {},
     "output_type": "execute_result"
    }
   ],
   "source": [
    "drives"
   ]
  },
  {
   "cell_type": "code",
   "execution_count": 66,
   "metadata": {},
   "outputs": [],
   "source": [
    "# now only extract the sessionpath downwards\n",
    "f02_tmc_sessionfiles = [ list(map(only_camera_sessionfolder_filename, each)) for each in all_tmc_files2]\n",
    "f02_tmc_files_set = [set(each) for each in f02_tmc_sessionfiles]"
   ]
  },
  {
   "cell_type": "code",
   "execution_count": 69,
   "metadata": {},
   "outputs": [
    {
     "name": "stdout",
     "output_type": "stream",
     "text": [
      "1873\n"
     ]
    }
   ],
   "source": [
    "# get all files that are common to all 3 drives:\n",
    "tmc_allcommon = f02_tmc_files_set[0].intersection(f02_tmc_files_set[1]).intersection(f02_tmc_files_set[2])\n",
    "print(len(tmc_allcommon))"
   ]
  },
  {
   "cell_type": "code",
   "execution_count": 86,
   "metadata": {},
   "outputs": [
    {
     "name": "stdout",
     "output_type": "stream",
     "text": [
      "True\n"
     ]
    }
   ],
   "source": [
    "# Do drives #3 and #4 have the same TMC?\n",
    "tmc_34_same = f02_tmc_files_set[1]==f02_tmc_files_set[2]\n",
    "print(tmc_34_same)"
   ]
  },
  {
   "cell_type": "code",
   "execution_count": 87,
   "metadata": {},
   "outputs": [
    {
     "data": {
      "text/plain": [
       "True"
      ]
     },
     "execution_count": 87,
     "metadata": {},
     "output_type": "execute_result"
    }
   ],
   "source": [
    "f02_tmc_files_set[2].issuperset(f02_tmc_files_set[0])"
   ]
  },
  {
   "cell_type": "markdown",
   "metadata": {},
   "source": [
    "###  summary video files for drives # 2-4\n",
    "\n",
    "* Video TMC files in #2 are a subset of #3 and #4\n",
    "* Video TMC files in #3 and #4 are the same"
   ]
  },
  {
   "cell_type": "markdown",
   "metadata": {},
   "source": [
    "## What are all the unique audio and video files in the Ushichka dataset?"
   ]
  },
  {
   "cell_type": "markdown",
   "metadata": {},
   "source": [
    "## All the unique WAV files in the dataset"
   ]
  },
  {
   "cell_type": "code",
   "execution_count": 98,
   "metadata": {},
   "outputs": [
    {
     "data": {
      "text/plain": [
       "6390"
      ]
     },
     "execution_count": 98,
     "metadata": {},
     "output_type": "execute_result"
    }
   ],
   "source": [
    "# all the unique WAV files \n",
    "wav_combined = f02_sessionfiles_sets + session_and_files\n",
    "wav_unique = set.union(*wav_combined)\n",
    "len(wav_unique)\n",
    "    "
   ]
  },
  {
   "cell_type": "markdown",
   "metadata": {},
   "source": [
    "## All the unique TMC files in the dataset\n"
   ]
  },
  {
   "cell_type": "code",
   "execution_count": 103,
   "metadata": {},
   "outputs": [
    {
     "name": "stdout",
     "output_type": "stream",
     "text": [
      "16198\n"
     ]
    }
   ],
   "source": [
    "tmc_combined = f02_tmc_files_set + f01_sessionfiles_sets\n",
    "tmc_unique = set.union(*tmc_combined)\n",
    "print(len(tmc_unique))\n"
   ]
  },
  {
   "cell_type": "code",
   "execution_count": null,
   "metadata": {},
   "outputs": [],
   "source": []
  }
 ],
 "metadata": {
  "kernelspec": {
   "display_name": "projushichka",
   "language": "python",
   "name": "projushichka"
  },
  "language_info": {
   "codemirror_mode": {
    "name": "ipython",
    "version": 3
   },
   "file_extension": ".py",
   "mimetype": "text/x-python",
   "name": "python",
   "nbconvert_exporter": "python",
   "pygments_lexer": "ipython3",
   "version": "3.8.5"
  }
 },
 "nbformat": 4,
 "nbformat_minor": 4
}
