{
 "cells": [
  {
   "cell_type": "markdown",
   "metadata": {},
   "source": [
    "This notebook is my take on Ben Koger's fruit bat tracking code. I'll need to adapt the parameters and certain parts of the code to get things running. \n",
    "\n",
    "### Exported TMC frames \n",
    "The TMC frames when exported to PNG results in a 3 channel image with the same pixel values on all channels. \n",
    "\n",
    "### Type of image \n",
    "The objects need to be *dark* over a bright background. "
   ]
  },
  {
   "cell_type": "code",
   "execution_count": 2,
   "metadata": {},
   "outputs": [],
   "source": [
    "import cv2 \n",
    "import numpy as np\n",
    "import glob\n",
    "import os\n",
    "import pandas as pd\n",
    "import shutil\n",
    "import tqdm\n",
    "\n",
    "import matplotlib.pyplot as plt\n",
    "\n"
   ]
  },
  {
   "cell_type": "code",
   "execution_count": 3,
   "metadata": {},
   "outputs": [],
   "source": [
    "%matplotlib notebook"
   ]
  },
  {
   "cell_type": "code",
   "execution_count": 5,
   "metadata": {},
   "outputs": [],
   "source": [
    "import bat_functions as kbf\n",
    "#from kbf import simple_process_frame"
   ]
  },
  {
   "cell_type": "code",
   "execution_count": null,
   "metadata": {},
   "outputs": [],
   "source": []
  },
  {
   "cell_type": "code",
   "execution_count": null,
   "metadata": {},
   "outputs": [],
   "source": [
    "image_folder = \"./thermal_frames/\" \n",
    "\n",
    "bat_thresh = .2\n",
    "bat_area = 3"
   ]
  },
  {
   "cell_type": "markdown",
   "metadata": {},
   "source": [
    "### 2018-07-28 P000 97000.TMC \n",
    "For cams K1,2,3"
   ]
  },
  {
   "cell_type": "code",
   "execution_count": null,
   "metadata": {},
   "outputs": [],
   "source": [
    "if not os.path.isdir('tracked_frames/'):\n",
    "    os.mkdir('tracked_frames/')\n",
    "\n",
    "for camera_id in ['K1','K2','K3']:\n",
    "\n",
    "    image_files = sorted(glob.glob(image_folder + f'/*{camera_id}*.png'))\n",
    "\n",
    "    for focal_frame_ind,_ in tqdm.tqdm(enumerate(image_files)):\n",
    "        output = kbf.simple_process_frame(image_files, \n",
    "                                      bat_thresh, bat_area,\n",
    "                                      focal_frame_ind)\n",
    "\n",
    "\n",
    "\n",
    "        frame = cv2.imread(image_files[focal_frame_ind])\n",
    "        frame = cv2.cvtColor(frame, cv2.COLOR_BGR2RGB)\n",
    "        circled_image = kbf.draw_circles_on_image(frame, \n",
    "                                              output['bat_centers'], \n",
    "                                              output['bat_sizes'], \n",
    "                                              rects=output['bat_rects'])\n",
    "\n",
    "        # save color image with tracking info\n",
    "        plt.imsave('tracked_frames/'+f'{camera_id}_{focal_frame_ind}_tracked.png', circled_image)\n",
    "        # save centers of object centres\n",
    "        df = pd.DataFrame(output['bat_centers'],columns=['col_index','row_index'])\n",
    "        df['camera_id'] = camera_id\n",
    "        df['frame_number'] = focal_frame_ind+1\n",
    "        df['file_name'] = os.path.split(image_files[focal_frame_ind])[-1]\n",
    "        df['tracking_parameters'] = f'bat_thresh:{bat_thresh};bat_area:{bat_area}'\n",
    "        all_frame_data.append(df)\n",
    "\n",
    "all_camera_data = pd.concat(all_frame_data).reset_index(drop=True)"
   ]
  },
  {
   "cell_type": "code",
   "execution_count": null,
   "metadata": {},
   "outputs": [],
   "source": [
    "all_camera_data"
   ]
  },
  {
   "cell_type": "markdown",
   "metadata": {},
   "source": [
    "### 2018-07-28 P000 35000.TMC \n",
    "For cams K1,2,3"
   ]
  },
  {
   "cell_type": "code",
   "execution_count": null,
   "metadata": {},
   "outputs": [],
   "source": [
    "image_folder = 'frames_2018-07-28_P00_35000/'\n",
    "output_dir = 'tracked_frames_2018-07-28_p00_35000/'\n",
    "if not os.path.isdir(output_dir):\n",
    "    os.mkdir(output_dir)\n",
    "\n",
    "for camera_id in ['K1','K2','K3']:\n",
    "\n",
    "    image_files = sorted(glob.glob(image_folder + f'/*{camera_id}*.png'))\n",
    "\n",
    "    for focal_frame_ind,_ in tqdm.tqdm(enumerate(image_files)):\n",
    "        output = kbf.simple_process_frame(image_files, \n",
    "                                      bat_thresh, bat_area,\n",
    "                                      focal_frame_ind)\n",
    "\n",
    "\n",
    "\n",
    "        frame = cv2.imread(image_files[focal_frame_ind])\n",
    "        frame = cv2.cvtColor(frame, cv2.COLOR_BGR2RGB)\n",
    "        circled_image = kbf.draw_circles_on_image(frame, \n",
    "                                              output['bat_centers'], \n",
    "                                              output['bat_sizes'], \n",
    "                                              rects=output['bat_rects'])\n",
    "\n",
    "        # save color image with tracking info\n",
    "        plt.imsave(output_dir+f'{camera_id}_{focal_frame_ind}_tracked.png', circled_image)\n",
    "        # save centers of object centres\n",
    "        df = pd.DataFrame(output['bat_centers'],columns=['col_index','row_index'])\n",
    "        df['camera_id'] = camera_id\n",
    "        df['frame_number'] = focal_frame_ind+1\n",
    "        df['file_name'] = os.path.split(image_files[focal_frame_ind])[-1]\n",
    "        df['tracking_parameters'] = f'bat_thresh:{bat_thresh};bat_area:{bat_area}'\n",
    "        all_frame_data.append(df)\n",
    "\n",
    "all_camera_data = pd.concat(all_frame_data).reset_index(drop=True)"
   ]
  }
 ],
 "metadata": {
  "kernelspec": {
   "display_name": "Python 3",
   "language": "python",
   "name": "python3"
  },
  "language_info": {
   "codemirror_mode": {
    "name": "ipython",
    "version": 3
   },
   "file_extension": ".py",
   "mimetype": "text/x-python",
   "name": "python",
   "nbconvert_exporter": "python",
   "pygments_lexer": "ipython3",
   "version": "3.7.0"
  }
 },
 "nbformat": 4,
 "nbformat_minor": 4
}
