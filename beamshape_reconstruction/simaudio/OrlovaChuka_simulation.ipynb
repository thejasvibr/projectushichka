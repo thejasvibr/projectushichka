{
 "cells": [
  {
   "cell_type": "code",
   "execution_count": 1,
   "id": "99d9968a",
   "metadata": {},
   "outputs": [],
   "source": [
    "import stl\n",
    "from stl import mesh\n",
    "\n",
    "import numpy as np\n",
    "import scipy.signal as signal \n",
    "from scipy.signal import fftconvolve\n",
    "from scipy.spatial import distance_matrix\n",
    "import soundfile as sf\n",
    "import pyroomacoustics as pra"
   ]
  },
  {
   "cell_type": "code",
   "execution_count": 2,
   "id": "0bb8dcd5",
   "metadata": {},
   "outputs": [],
   "source": [
    "%matplotlib notebook"
   ]
  },
  {
   "cell_type": "code",
   "execution_count": 3,
   "id": "2c0d3194",
   "metadata": {},
   "outputs": [],
   "source": [
    "path_to_musis_stl_file = \"data/smaller_slicedup_OC_evenmore.stl\"\n",
    "\n",
    "#path_to_musis_stl_file = './INRIA_MUSIS.stl'\n",
    "\n",
    "\n",
    "material = pra.Material(energy_absorption=0.4, scattering=0.5)\n",
    "\n",
    "# with numpy-stl\n",
    "the_mesh = mesh.Mesh.from_file(path_to_musis_stl_file)\n",
    "ntriang, nvec, npts = the_mesh.vectors.shape\n",
    "size_reduc_factor = 1  # to get a realistic room size (not 3km)"
   ]
  },
  {
   "cell_type": "code",
   "execution_count": 4,
   "id": "ebeed19f",
   "metadata": {},
   "outputs": [],
   "source": [
    "# create one wall per triangle\n",
    "walls = []\n",
    "for w in range(ntriang):\n",
    "    walls.append(\n",
    "        pra.wall_factory(\n",
    "            the_mesh.vectors[w].T / size_reduc_factor,\n",
    "            material.energy_absorption[\"coeffs\"],\n",
    "            material.scattering[\"coeffs\"],\n",
    "        )\n",
    "    )"
   ]
  },
  {
   "cell_type": "code",
   "execution_count": null,
   "id": "6fb7c036",
   "metadata": {},
   "outputs": [],
   "source": [
    "source_sound = np.random.normal(0,1,1000)\n",
    "source_sound *= signal.hanning(source_sound.size)\n",
    "\n",
    "source_position = np.array([-0.2, 0, -1])\n",
    "central_mic_pos = np.array([-0.75, 01.66, -0.5])\n",
    "\n",
    "source_position = source_position.tolist()\n",
    "central_mic_pos = central_mic_pos.tolist()"
   ]
  },
  {
   "cell_type": "code",
   "execution_count": null,
   "id": "24c59bca",
   "metadata": {},
   "outputs": [],
   "source": [
    "call_durn = 0.004 # seconds\n",
    "fs = 192000\n",
    "t = np.linspace(0,call_durn,int(fs*call_durn))\n",
    "bat_call = signal.chirp(t,90000, t[-1],30000)\n",
    "bat_call *= signal.windows.tukey(bat_call.size, 0.95)"
   ]
  },
  {
   "cell_type": "code",
   "execution_count": null,
   "id": "2e3e3a30",
   "metadata": {},
   "outputs": [],
   "source": [
    "room = pra.Room(walls, fs=fs, max_order=1, ray_tracing=True, air_absorption=True).add_source(\n",
    "                                    [0.05, 0.50, 0.05], signal=bat_call).add_microphone_array(\n",
    "                                    np.c_[[-1.1, 0.9, 0.1], [-1.1, 0.9,0.3]])"
   ]
  },
  {
   "cell_type": "code",
   "execution_count": null,
   "id": "0cc0e69b",
   "metadata": {},
   "outputs": [],
   "source": [
    "room.rt_args"
   ]
  },
  {
   "cell_type": "code",
   "execution_count": null,
   "id": "d0edada8",
   "metadata": {},
   "outputs": [],
   "source": [
    "room.image_source_model()\n",
    "room.ray_tracing()\n",
    "room.compute_rir()\n",
    "room.plot_rir()\n"
   ]
  },
  {
   "cell_type": "code",
   "execution_count": null,
   "id": "d7dbd400",
   "metadata": {},
   "outputs": [],
   "source": [
    "mic0_signal = fftconvolve(room.rir[0][0], bat_call)\n",
    "mic1_signal = fftconvolve(room.rir[1][0], bat_call)\n",
    "plt.figure()\n",
    "a0 = plt.subplot(211)\n",
    "plt.specgram(mic0_signal, Fs=fs, NFFT=192, noverlap=96);\n",
    "plt.subplot(212, sharex=a0)\n",
    "plt.plot(np.linspace(0,mic0_signal.size/fs,mic0_signal.size), mic0_signal)\n"
   ]
  },
  {
   "cell_type": "code",
   "execution_count": null,
   "id": "9762098d",
   "metadata": {},
   "outputs": [],
   "source": [
    "stereo = np.zeros((np.max([mic0_signal.size, mic1_signal.size]),2))\n",
    "stereo[:mic0_signal.size,0] = mic0_signal\n",
    "stereo[:mic1_signal.size,1] = mic1_signal"
   ]
  },
  {
   "cell_type": "code",
   "execution_count": null,
   "id": "1424335e",
   "metadata": {},
   "outputs": [],
   "source": [
    "sf.write('mic01_signal.wav', stereo, fs)\n"
   ]
  },
  {
   "cell_type": "markdown",
   "id": "ddb21371-9281-4388-ac99-2f9b2199dac3",
   "metadata": {},
   "source": [
    "Let's try to extract the source-level using the distance. How badly will this fail when there is reverberation? \n"
   ]
  },
  {
   "cell_type": "code",
   "execution_count": null,
   "id": "2508a319-1f87-4cc4-8b00-31aa9eba9a07",
   "metadata": {},
   "outputs": [],
   "source": [
    "acc0 = signal.correlate(stereo[:,0], stereo[:,0])\n",
    "acc1 = signal.correlate(stereo[:,1], stereo[:,1])\n",
    "plt.figure()\n",
    "plt.subplot(211)\n",
    "plt.plot(acc0)\n",
    "plt.subplot(212)\n",
    "plt.plot(acc1)"
   ]
  },
  {
   "cell_type": "code",
   "execution_count": null,
   "id": "5bbb0a7d-480c-4b4e-952c-82291d10d8c8",
   "metadata": {},
   "outputs": [],
   "source": []
  }
 ],
 "metadata": {
  "kernelspec": {
   "display_name": "Python [conda env:ushichka] *",
   "language": "python",
   "name": "conda-env-ushichka-py"
  },
  "language_info": {
   "codemirror_mode": {
    "name": "ipython",
    "version": 3
   },
   "file_extension": ".py",
   "mimetype": "text/x-python",
   "name": "python",
   "nbconvert_exporter": "python",
   "pygments_lexer": "ipython3",
   "version": "3.8.12"
  }
 },
 "nbformat": 4,
 "nbformat_minor": 5
}
