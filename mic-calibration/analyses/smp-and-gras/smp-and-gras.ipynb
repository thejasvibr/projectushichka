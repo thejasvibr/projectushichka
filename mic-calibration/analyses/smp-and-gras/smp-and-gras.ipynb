{
 "cells": [
  {
   "cell_type": "markdown",
   "id": "specific-knight",
   "metadata": {},
   "source": [
    "This notebook will try to look at how much inter-playback variation is there at the mic and speaker level. \n",
    "In a previous analysis (```./smp-mic-directionalities/spu-mic-directionalities.ipynb```), I'd seen that the tone spectra were very different for SMP4 between the first and last on-axis recordings. This bothered me, and so I had to do some more measurements with SMP4 *and* a GRAS mic 2cm flush to the 'wall'. \n",
    "\n",
    "Here, I measure the stability of playback recordings obtained from the SMP+GRAS combination. All recordings were on-axis at ~2m. Amplifier 401 and Speaker 504 were used. SMP4 had a gain of 30dB while the GRAS 1/4\" had a gain of 50dB. \n",
    "\n",
    "Notebook initiation date: 2021-06-17"
   ]
  },
  {
   "cell_type": "code",
   "execution_count": 1,
   "id": "convinced-structure",
   "metadata": {},
   "outputs": [],
   "source": [
    "import glob\n",
    "import soundfile as sf\n",
    "import matplotlib.pyplot as plt\n",
    "import numpy as np \n",
    "import scipy.signal as signal\n",
    "import sys\n",
    "sys.path.append('..//')\n",
    "import calibration_rec_analysis\n",
    "from calibration_rec_analysis import calculate_tones_rec_level, calculate_average_sweep_spectrum\n",
    "sys.path.append('../')\n",
    "sys.path.append('../../')\n",
    "import playback_code.playback_analysis as pa\n",
    "\n",
    "from fullscale_calculations import *"
   ]
  },
  {
   "cell_type": "code",
   "execution_count": 2,
   "id": "efficient-saint",
   "metadata": {},
   "outputs": [],
   "source": [
    "\n",
    "fs = 192000\n",
    "b,a = signal.butter(2, np.array([9000,95500])/(fs*0.5), 'bandpass')"
   ]
  },
  {
   "cell_type": "code",
   "execution_count": 3,
   "id": "taken-adelaide",
   "metadata": {},
   "outputs": [],
   "source": [
    "%matplotlib notebook"
   ]
  },
  {
   "cell_type": "code",
   "execution_count": 4,
   "id": "determined-telescope",
   "metadata": {},
   "outputs": [],
   "source": [
    "tonefreqs = np.arange(10000, 95000, 1000)"
   ]
  },
  {
   "cell_type": "code",
   "execution_count": 5,
   "id": "optimum-fighter",
   "metadata": {},
   "outputs": [
    {
     "data": {
      "text/plain": [
       "['../../2021-06-15\\\\smp4-2mwall_amp401_speaker504_gaindB_30&50_azimuth_angle_0_2021-06-15_19-45-13.wav',\n",
       " '../../2021-06-15\\\\smp4-2mwall_amp401_speaker504_gaindB_30&50_azimuth_angle_0_2021-06-15_19-47-44.wav',\n",
       " '../../2021-06-15\\\\smp4-2mwall_amp401_speaker504_gaindB_30&50_azimuth_angle_0_2021-06-15_19-50-09.wav',\n",
       " '../../2021-06-15\\\\smp4-2mwall_amp401_speaker504_gaindB_30&50_azimuth_angle_0_2021-06-15_19-52-49.wav',\n",
       " '../../2021-06-15\\\\smp4-2mwall_amp401_speaker504_gaindB_30&50_azimuth_angle_0_2021-06-15_19-55-12.wav',\n",
       " '../../2021-06-15\\\\smp4-2mwall_amp401_speaker504_gaindB_30&50_azimuth_angle_0_2021-06-15_19-57-43.wav',\n",
       " '../../2021-06-15\\\\smp4-2mwall_amp401_speaker504_gaindB_30&50_azimuth_angle_0_2021-06-15_20-00-42.wav',\n",
       " '../../2021-06-15\\\\smp4-2mwall_amp401_speaker504_gaindB_30&50_azimuth_angle_0_2021-06-15_20-03-05.wav',\n",
       " '../../2021-06-15\\\\smp4-2mwall_amp401_speaker504_gaindB_30&50_azimuth_angle_0_2021-06-15_20-05-32.wav',\n",
       " '../../2021-06-15\\\\smp4-2mwall_amp401_speaker504_gaindB_30&50_azimuth_angle_0_2021-06-15_20-07-55.wav']"
      ]
     },
     "execution_count": 5,
     "metadata": {},
     "output_type": "execute_result"
    }
   ],
   "source": [
    "smpgras_recs = glob.glob('../../2021-06-15/*_30&50_*.wav')\n",
    "smpgras_recs"
   ]
  },
  {
   "cell_type": "code",
   "execution_count": 6,
   "id": "quarterly-supervisor",
   "metadata": {},
   "outputs": [],
   "source": [
    "audio, fs = sf.read(smpgras_recs[0])"
   ]
  },
  {
   "cell_type": "code",
   "execution_count": 7,
   "id": "successful-institute",
   "metadata": {},
   "outputs": [],
   "source": [
    "smp4_audio = []\n",
    "grasmic_audio = []\n",
    "for each in smpgras_recs:\n",
    "    audio, fs = sf.read(each)\n",
    "    smp_audio, gras_audio = pa.get_only_tones(audio[:,0],1.5), pa.get_only_tones(audio[:,1],1.5)\n",
    "    smp4_audio.append(signal.lfilter(b,a,smp_audio))\n",
    "    grasmic_audio.append(signal.lfilter(b,a,gras_audio))"
   ]
  },
  {
   "cell_type": "code",
   "execution_count": 8,
   "id": "still-tampa",
   "metadata": {},
   "outputs": [
    {
     "data": {
      "text/plain": [
       "['../../2021-06-15\\\\smp4-2mwall_amp401_speaker504_gaindB_30&50_azimuth_angle_0_2021-06-15_19-45-13.wav',\n",
       " '../../2021-06-15\\\\smp4-2mwall_amp401_speaker504_gaindB_30&50_azimuth_angle_0_2021-06-15_19-47-44.wav',\n",
       " '../../2021-06-15\\\\smp4-2mwall_amp401_speaker504_gaindB_30&50_azimuth_angle_0_2021-06-15_19-50-09.wav',\n",
       " '../../2021-06-15\\\\smp4-2mwall_amp401_speaker504_gaindB_30&50_azimuth_angle_0_2021-06-15_19-52-49.wav',\n",
       " '../../2021-06-15\\\\smp4-2mwall_amp401_speaker504_gaindB_30&50_azimuth_angle_0_2021-06-15_19-55-12.wav',\n",
       " '../../2021-06-15\\\\smp4-2mwall_amp401_speaker504_gaindB_30&50_azimuth_angle_0_2021-06-15_19-57-43.wav',\n",
       " '../../2021-06-15\\\\smp4-2mwall_amp401_speaker504_gaindB_30&50_azimuth_angle_0_2021-06-15_20-00-42.wav',\n",
       " '../../2021-06-15\\\\smp4-2mwall_amp401_speaker504_gaindB_30&50_azimuth_angle_0_2021-06-15_20-03-05.wav',\n",
       " '../../2021-06-15\\\\smp4-2mwall_amp401_speaker504_gaindB_30&50_azimuth_angle_0_2021-06-15_20-05-32.wav',\n",
       " '../../2021-06-15\\\\smp4-2mwall_amp401_speaker504_gaindB_30&50_azimuth_angle_0_2021-06-15_20-07-55.wav']"
      ]
     },
     "execution_count": 8,
     "metadata": {},
     "output_type": "execute_result"
    }
   ],
   "source": [
    "smpgras_recs"
   ]
  },
  {
   "cell_type": "raw",
   "id": "personal-australia",
   "metadata": {},
   "source": [
    "plt.figure()\n",
    "plt.subplot(211)\n",
    "plt.text(0.7,0.9,'SMP4 recording',transform=plt.gca().transAxes)\n",
    "[plt.plot(each, label=i) for i,each in enumerate(smp4_audio)];\n",
    "plt.legend()\n",
    "plt.subplot(212)\n",
    "plt.text(0.7,0.9,'GRAS recording',transform=plt.gca().transAxes)\n",
    "[plt.plot(each, label=i) for i,each in enumerate(grasmic_audio)];\n",
    "plt.legend()"
   ]
  },
  {
   "cell_type": "markdown",
   "id": "olympic-scenario",
   "metadata": {},
   "source": [
    "### There appears to be more inter-recording variation in SMP4 than in the GRAS!!\n",
    "\n",
    "This is odd - let's take a closer look at where the variation is coming from. "
   ]
  },
  {
   "cell_type": "code",
   "execution_count": 9,
   "id": "together-project",
   "metadata": {},
   "outputs": [],
   "source": [
    "fs = 192000\n",
    "fireface_dbu_FS = 27\n",
    "spu_dbVrmsPa = -42 # just take a typical value --THIS IS NOT AN EXACT VALUE!!!!\n",
    "rec_gain = 30\n",
    "tonefreqs = np.arange(10000, 95000, 1000)"
   ]
  },
  {
   "cell_type": "code",
   "execution_count": 10,
   "id": "imposed-subcommittee",
   "metadata": {},
   "outputs": [],
   "source": [
    "smp4_onaxis_data = []\n",
    "for each in smp4_audio:\n",
    "    out = calculate_tones_rec_level(each, fs, tonefreqs, fireface_dbu_FS, rec_gain, spu_dbVrmsPa, freq_bw=500)\n",
    "    smp4_onaxis_data.append(out)\n",
    "    \n",
    "gras_onaxis_data = []\n",
    "for each in grasmic_audio:\n",
    "    out = calculate_tones_rec_level(each, fs, tonefreqs, fireface_dbu_FS, rec_gain, spu_dbVrmsPa, freq_bw=500)\n",
    "    gras_onaxis_data.append(out)"
   ]
  },
  {
   "cell_type": "raw",
   "id": "spiritual-constant",
   "metadata": {},
   "source": [
    "plt.figure()\n",
    "a00 = plt.subplot(211)\n",
    "plt.text(70000,90,'SMP4')\n",
    "for each in smp4_onaxis_data:\n",
    "    plt.plot(tonefreqs, each['dbspl_rms'])\n",
    "plt.xlim(20000,95000);\n",
    "plt.ylim(60,106)\n",
    "\n",
    "a01 = plt.subplot(212, sharex=a00, sharey=a00)\n",
    "plt.text(70000,90,'GRAS')\n",
    "for each in gras_onaxis_data:\n",
    "    plt.plot(tonefreqs, each['dbspl_rms'])\n",
    "\n",
    "plt.text(-0.15, 0.6,'Sound level (a.u.)   \\n not comparable between mics', \n",
    "         rotation=90, transform=plt.gca().transAxes, fontsize=12)\n",
    "plt.xlabel('Frequency, Hz', fontsize=12)"
   ]
  },
  {
   "cell_type": "markdown",
   "id": "breeding-angel",
   "metadata": {},
   "source": [
    "## Consistent tone playback recording levels\n",
    "There actually seems to be a decent amount of consistency in the tones. Why did I get those deviant tone plots in the other analysis? \n",
    "\n",
    "Potentially, I've made a mistake in noting the actual recording state the other day (eg. messing up the off-axis angle in the file name or something like that). "
   ]
  },
  {
   "cell_type": "markdown",
   "id": "announced-lawsuit",
   "metadata": {},
   "source": [
    "## Sweep spectral consistency?\n",
    "How consistent are the recordings from the sweep part of the recording?\n"
   ]
  },
  {
   "cell_type": "code",
   "execution_count": 11,
   "id": "standard-carroll",
   "metadata": {},
   "outputs": [],
   "source": [
    "\n",
    "freqs, avg_spectrum = calculate_average_sweep_spectrum(grasmic_audio[0], fs)"
   ]
  },
  {
   "cell_type": "code",
   "execution_count": null,
   "id": "religious-baghdad",
   "metadata": {},
   "outputs": [],
   "source": []
  }
 ],
 "metadata": {
  "kernelspec": {
   "display_name": "Python [conda env:projushichka] *",
   "language": "python",
   "name": "conda-env-projushichka-py"
  },
  "language_info": {
   "codemirror_mode": {
    "name": "ipython",
    "version": 3
   },
   "file_extension": ".py",
   "mimetype": "text/x-python",
   "name": "python",
   "nbconvert_exporter": "python",
   "pygments_lexer": "ipython3",
   "version": "3.8.5"
  }
 },
 "nbformat": 4,
 "nbformat_minor": 5
}
